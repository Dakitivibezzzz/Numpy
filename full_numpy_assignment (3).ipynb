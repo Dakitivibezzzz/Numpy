{
  "cells": [
    {
      "cell_type": "markdown",
      "metadata": {
        "id": "Y4wuS60lJSVQ"
      },
      "source": [
        "## Numpy assignment"
      ]
    },
    {
      "cell_type": "markdown",
      "metadata": {
        "id": "cYy8-Wq3JSVR"
      },
      "source": [
        "## 1 Preliminaries"
      ]
    },
    {
      "cell_type": "code",
      "execution_count": 1,
      "metadata": {
        "id": "5Z5-LLD_JSVS"
      },
      "outputs": [],
      "source": [
        "# The usual preamble\n",
        "import numpy as np"
      ]
    },
    {
      "cell_type": "markdown",
      "metadata": {
        "id": "MN3eCTN8JSVV"
      },
      "source": [
        "## Numpy"
      ]
    },
    {
      "cell_type": "code",
      "execution_count": 2,
      "metadata": {
        "id": "TCHqsJXxJSVW"
      },
      "outputs": [],
      "source": [
        "import numpy as np\n",
        "x = np.array([2,3,1,0])\n",
        "y =np.arange(10)\n",
        "z = 2 + x"
      ]
    },
    {
      "cell_type": "markdown",
      "metadata": {
        "id": "n1xzCtm3JSVY"
      },
      "source": [
        "Write expressions in the next cell to retrieve 1 from `x`, 3 from `y`, and 3 from `z`."
      ]
    },
    {
      "cell_type": "code",
      "execution_count": 3,
      "metadata": {
        "id": "96FDYv0oJSVZ",
        "outputId": "c8b21a0c-2b25-4bef-d70b-2682ae73e23a",
        "colab": {
          "base_uri": "https://localhost:8080/"
        }
      },
      "outputs": [
        {
          "output_type": "stream",
          "name": "stdout",
          "text": [
            "1\n",
            "3\n",
            "3\n"
          ]
        }
      ],
      "source": [
        "print(x[2])\n",
        "print(y[3])\n",
        "print(z[2])"
      ]
    },
    {
      "cell_type": "markdown",
      "metadata": {
        "id": "t17iimSbJSVb"
      },
      "source": [
        "In the next cell, write an expression that generates a 5 by 5 array filled with zeros, and another  that generates a 1 by 1 array with a 1 in it."
      ]
    },
    {
      "cell_type": "code",
      "execution_count": 4,
      "metadata": {
        "id": "s8k51GlRJSVb",
        "outputId": "3d2a2275-6b66-4247-cd3c-be4193ef5ba2",
        "colab": {
          "base_uri": "https://localhost:8080/"
        }
      },
      "outputs": [
        {
          "output_type": "execute_result",
          "data": {
            "text/plain": [
              "array([[0., 0., 0., 0., 0.],\n",
              "       [0., 0., 0., 0., 0.],\n",
              "       [0., 0., 0., 0., 0.],\n",
              "       [0., 0., 0., 0., 0.],\n",
              "       [0., 0., 0., 0., 0.]])"
            ]
          },
          "metadata": {},
          "execution_count": 4
        }
      ],
      "source": [
        "np.zeros([5,5])"
      ]
    },
    {
      "cell_type": "code",
      "execution_count": 5,
      "metadata": {
        "id": "TvkcTbKo6SZT",
        "outputId": "c2f3f83c-5471-47ce-9c49-3cc9b954a895",
        "colab": {
          "base_uri": "https://localhost:8080/"
        }
      },
      "outputs": [
        {
          "output_type": "execute_result",
          "data": {
            "text/plain": [
              "array([1.])"
            ]
          },
          "metadata": {},
          "execution_count": 5
        }
      ],
      "source": [
        "np.ones([1])"
      ]
    },
    {
      "cell_type": "markdown",
      "metadata": {
        "id": "wSbS2Fo5JSVe"
      },
      "source": [
        "<style>\n",
        "    @font-face {\n",
        "        font-family: \"Computer Modern\";\n",
        "        src: url('http://mirrors.ctan.org/fonts/cm-unicode/fonts/otf/cmunss.otf');\n",
        "    }\n",
        "    div.cell{\n",
        "        width:800px;\n",
        "        margin-left:16% !important;\n",
        "        margin-right:auto;\n",
        "    }\n",
        "    h1 {\n",
        "        font-family: Helvetica, serif;\n",
        "    }\n",
        "    h4{\n",
        "        margin-top:12px;\n",
        "        margin-bottom: 3px;\n",
        "       }\n",
        "    div.text_cell_render{\n",
        "        font-family: Computer Modern, \"Helvetica Neue\", Arial, Helvetica, Geneva, sans-serif;\n",
        "        line-height: 145%;\n",
        "        font-size: 130%;\n",
        "        width:800px;\n",
        "        margin-left:auto;\n",
        "        margin-right:auto;\n",
        "    }\n",
        "    .CodeMirror{\n",
        "            font-family: \"Source Code Pro\", source-code-pro,Consolas, monospace;\n",
        "    }\n",
        "    .text_cell_render h5 {\n",
        "        font-weight: 300;\n",
        "        font-size: 22pt;\n",
        "        color: #4057A1;\n",
        "        font-style: italic;\n",
        "        margin-bottom: .5em;\n",
        "        margin-top: 0.5em;\n",
        "        display: block;\n",
        "    }\n",
        "    \n",
        "    .warning{\n",
        "        color: rgb( 240, 20, 20 )\n",
        "        }  "
      ]
    },
    {
      "cell_type": "markdown",
      "metadata": {
        "id": "7BvfGKHjJSVe"
      },
      "source": [
        "In the next cell, write an expression that uses an assignment to a splice to make all the negative values in `a` be 0. "
      ]
    },
    {
      "cell_type": "code",
      "execution_count": 7,
      "metadata": {
        "id": "wvKZPhcAJSVe",
        "outputId": "5e6d1278-1c47-420e-d31c-b08e936d64bd",
        "colab": {
          "base_uri": "https://localhost:8080/"
        }
      },
      "outputs": [
        {
          "output_type": "execute_result",
          "data": {
            "text/plain": [
              "array([7, 6, 5, 4, 3, 2, 1, 0, 0, 0, 0])"
            ]
          },
          "metadata": {},
          "execution_count": 7
        }
      ],
      "source": [
        "a = np.arange(10,-1,-1) - 3\n",
        "a\n",
        "\n",
        "a[a < 0] = 0\n",
        "a"
      ]
    },
    {
      "cell_type": "markdown",
      "metadata": {
        "id": "wMWkVrbF6SZV"
      },
      "source": [
        "One way to do this is:"
      ]
    },
    {
      "cell_type": "code",
      "execution_count": 8,
      "metadata": {
        "id": "78ksOnfN6SZV",
        "outputId": "7804f1ba-4d00-484d-d4e8-6c663d4bc457",
        "colab": {
          "base_uri": "https://localhost:8080/"
        }
      },
      "outputs": [
        {
          "output_type": "execute_result",
          "data": {
            "text/plain": [
              "array([7, 6, 5, 4, 3, 2, 1, 0, 0, 0, 0])"
            ]
          },
          "metadata": {},
          "execution_count": 8
        }
      ],
      "source": [
        "a[-3:] = 0\n",
        "a"
      ]
    },
    {
      "cell_type": "markdown",
      "metadata": {
        "id": "wfMG0Uo_6SZW"
      },
      "source": [
        "But see if you can do it by writing an expression that make all negative values in `a`\n",
        "be 0 no matter where they occur in `a`.  Hint: Use a Boolean conditipn"
      ]
    },
    {
      "cell_type": "code",
      "execution_count": 9,
      "metadata": {
        "id": "HnYydj8K6SZW"
      },
      "outputs": [],
      "source": [
        "a = np.arange(10,-1,-1) - 3"
      ]
    },
    {
      "cell_type": "markdown",
      "metadata": {
        "id": "OtAiGCjS6SZW"
      },
      "source": [
        "Another option is to use `numpy` `where`, combined with an assignment.\n",
        "The form is\n",
        "\n",
        "```\n",
        ">>> np.where(condition, x, y)\n",
        "```\n",
        "\n",
        "where `condition`, `x` and `y` are all arrays of the same size (or are broadcastable to the same size).\n",
        "Return an array containing the members of `x` for which `condition` is `True`; otherwise return the corresponding member  of `y`.  It can be read \"`x` where `condition`, else\n",
        "`y`\".\n",
        "\n",
        "```\n",
        ">>> a = np.array([1, 4.1, 9, 16])\n",
        ">>> b = np.array([1,2,3,4])\n",
        ">>> np.where((np.sqrt(a) - b) == 0,np.sqrt(a),b)\n",
        "array([1., 2., 3., 4.])\n",
        "```"
      ]
    },
    {
      "cell_type": "code",
      "execution_count": 10,
      "metadata": {
        "id": "2zF-J-OJ6SZX"
      },
      "outputs": [],
      "source": [
        "a = np.arange(10,-1,-1) - 3\n",
        "a = np.where(a < 0, 0, a)"
      ]
    },
    {
      "cell_type": "code",
      "execution_count": 11,
      "metadata": {
        "id": "Ip-ODHQC6SZX",
        "outputId": "39694ca2-0f55-4fa9-a1ee-bd8a83003940",
        "colab": {
          "base_uri": "https://localhost:8080/"
        }
      },
      "outputs": [
        {
          "output_type": "execute_result",
          "data": {
            "text/plain": [
              "array([7, 6, 5, 4, 3, 2, 1, 0, 0, 0, 0])"
            ]
          },
          "metadata": {},
          "execution_count": 11
        }
      ],
      "source": [
        "a"
      ]
    },
    {
      "cell_type": "markdown",
      "metadata": {
        "id": "m7NpYSRgJSVg"
      },
      "source": [
        "In the next cell write an expression that produces an array containing result of multiplying 7 by each of the first 12 integers (1 - 12). There's a hard way to do this and an easy way.  The easy way uses elementwise operations."
      ]
    },
    {
      "cell_type": "code",
      "execution_count": 12,
      "metadata": {
        "id": "7yiKGc0HJSVh",
        "outputId": "9e51600b-1080-4749-d460-307b7bcaa2dd",
        "colab": {
          "base_uri": "https://localhost:8080/"
        }
      },
      "outputs": [
        {
          "output_type": "execute_result",
          "data": {
            "text/plain": [
              "array([ 7, 14, 21, 28, 35, 42, 49, 56, 63, 70, 77, 84])"
            ]
          },
          "metadata": {},
          "execution_count": 12
        }
      ],
      "source": [
        "7 * np.arange(1,13)"
      ]
    },
    {
      "cell_type": "code",
      "source": [
        "#elementwise operation \n",
        "np.multiply(7,np.arange(1,13))"
      ],
      "metadata": {
        "id": "TQvrcKdw9u-V",
        "outputId": "57399029-34a5-4c93-9baa-2bd65eee42b2",
        "colab": {
          "base_uri": "https://localhost:8080/"
        }
      },
      "execution_count": 13,
      "outputs": [
        {
          "output_type": "execute_result",
          "data": {
            "text/plain": [
              "array([ 7, 14, 21, 28, 35, 42, 49, 56, 63, 70, 77, 84])"
            ]
          },
          "metadata": {},
          "execution_count": 13
        }
      ]
    },
    {
      "cell_type": "markdown",
      "metadata": {
        "id": "o2TyTiOGJSVj"
      },
      "source": [
        "## 2D arrays"
      ]
    },
    {
      "cell_type": "code",
      "execution_count": 14,
      "metadata": {
        "id": "FzCLv6SiJSVj"
      },
      "outputs": [],
      "source": [
        "import numpy as np\n",
        "room_matrix = \\\n",
        "np.array(\n",
        "[[6,  3, 4, 1],\n",
        "[5,  2, 3, 2],\n",
        "[8,  3, 6, 2],\n",
        "[5,  1, 3, 1],\n",
        "[10, 4, 7, 2]])\n",
        "\n",
        "cost_vector = np.array([40, 175, 90, 450])"
      ]
    },
    {
      "cell_type": "markdown",
      "metadata": {
        "id": "XjUwZF0uJSVl"
      },
      "source": [
        "In the next cell write an express that retrieves the last column of `room_matrix`."
      ]
    },
    {
      "cell_type": "code",
      "execution_count": 15,
      "metadata": {
        "id": "QLIMA6dDJSVm",
        "outputId": "11d3190d-950b-46e1-c860-458d24e93a7e",
        "colab": {
          "base_uri": "https://localhost:8080/"
        }
      },
      "outputs": [
        {
          "output_type": "execute_result",
          "data": {
            "text/plain": [
              "array([1, 2, 2, 1, 2])"
            ]
          },
          "metadata": {},
          "execution_count": 15
        }
      ],
      "source": [
        "room_matrix[:,3]"
      ]
    },
    {
      "cell_type": "markdown",
      "metadata": {
        "id": "oTcVUAwZJSVo"
      },
      "source": [
        "In the next cell, write an expression that retrieves the third row of `room_matrix`."
      ]
    },
    {
      "cell_type": "code",
      "execution_count": 16,
      "metadata": {
        "id": "NPYhI-MNJSVo",
        "outputId": "aa1267cc-0e53-4b0f-ad97-21441350b2f0",
        "colab": {
          "base_uri": "https://localhost:8080/"
        }
      },
      "outputs": [
        {
          "output_type": "execute_result",
          "data": {
            "text/plain": [
              "array([4, 3, 6, 3, 7])"
            ]
          },
          "metadata": {},
          "execution_count": 16
        }
      ],
      "source": [
        "room_matrix[:,2]"
      ]
    },
    {
      "cell_type": "markdown",
      "metadata": {
        "id": "g7ukLsINJSVq"
      },
      "source": [
        "In the next cell write an expression that retrieves the first two elements of the second column of `room_matrix`"
      ]
    },
    {
      "cell_type": "code",
      "execution_count": 17,
      "metadata": {
        "id": "kBlJwiNHJSVq",
        "outputId": "3b2b2d50-d177-44b9-adeb-f5c230494c1f",
        "colab": {
          "base_uri": "https://localhost:8080/"
        }
      },
      "outputs": [
        {
          "output_type": "execute_result",
          "data": {
            "text/plain": [
              "array([4, 3])"
            ]
          },
          "metadata": {},
          "execution_count": 17
        }
      ],
      "source": [
        "room_matrix[:2,2]"
      ]
    },
    {
      "cell_type": "markdown",
      "metadata": {
        "id": "PFL_HNz8JSVs"
      },
      "source": [
        "In the next cell write an expression that retrieves the following submatrix from `room_matrix`:\n",
        "\n",
        "```\n",
        "array([[2,3],\n",
        "       [3,6]])\n",
        "```"
      ]
    },
    {
      "cell_type": "code",
      "execution_count": 18,
      "metadata": {
        "id": "4pJVgJJAJSVt",
        "outputId": "058ac32e-944a-4bba-959c-bc30d4fb55ce",
        "colab": {
          "base_uri": "https://localhost:8080/"
        }
      },
      "outputs": [
        {
          "output_type": "execute_result",
          "data": {
            "text/plain": [
              "array([[2, 3],\n",
              "       [3, 6]])"
            ]
          },
          "metadata": {},
          "execution_count": 18
        }
      ],
      "source": [
        "room_matrix[1:3,[1,2]]"
      ]
    },
    {
      "cell_type": "markdown",
      "metadata": {
        "id": "5Rn-NzcTJSVv"
      },
      "source": [
        "In the next cell, write an expression that returns a Boolean array that identifies the members of `room_matrix` which are greater than or equal to 7."
      ]
    },
    {
      "cell_type": "code",
      "execution_count": 19,
      "metadata": {
        "id": "qOJ3bDQzJSVv",
        "outputId": "08e81f29-f98e-4d26-8626-363a53fd8e78",
        "colab": {
          "base_uri": "https://localhost:8080/"
        }
      },
      "outputs": [
        {
          "output_type": "execute_result",
          "data": {
            "text/plain": [
              "array([[False, False, False, False],\n",
              "       [False, False, False, False],\n",
              "       [ True, False, False, False],\n",
              "       [False, False, False, False],\n",
              "       [ True, False,  True, False]])"
            ]
          },
          "metadata": {},
          "execution_count": 19
        }
      ],
      "source": [
        "room_matrix >= 7"
      ]
    },
    {
      "cell_type": "markdown",
      "metadata": {
        "id": "C2DSqCenJp_s"
      },
      "source": [
        "In the next cell, write an expression that produces an array containing the items in `room_matrix` which are greater than or equal to 7.  Note:  This question and the previous question do not have the same answer."
      ]
    },
    {
      "cell_type": "code",
      "execution_count": 20,
      "metadata": {
        "id": "vsKQHp426SZd",
        "outputId": "592688b5-0a2b-474c-b467-e795447a1344",
        "colab": {
          "base_uri": "https://localhost:8080/"
        }
      },
      "outputs": [
        {
          "output_type": "stream",
          "name": "stderr",
          "text": [
            "/usr/local/lib/python3.7/dist-packages/ipykernel_launcher.py:1: FutureWarning: Using a non-tuple sequence for multidimensional indexing is deprecated; use `arr[tuple(seq)]` instead of `arr[seq]`. In the future this will be interpreted as an array index, `arr[np.array(seq)]`, which will result either in an error or a different result.\n",
            "  \"\"\"Entry point for launching an IPython kernel.\n"
          ]
        },
        {
          "output_type": "execute_result",
          "data": {
            "text/plain": [
              "array([ 8, 10,  7])"
            ]
          },
          "metadata": {},
          "execution_count": 20
        }
      ],
      "source": [
        "room_matrix[[room_matrix >= 7]]"
      ]
    },
    {
      "cell_type": "markdown",
      "metadata": {
        "id": "wwR0EsO5JSVx"
      },
      "source": [
        "## Iris data exercise"
      ]
    },
    {
      "cell_type": "markdown",
      "metadata": {
        "id": "-sAlD8q_JSVx"
      },
      "source": [
        "In the next cell, use a Boolean mask to return all the rows of the iris data set whose column 3 value is greater than 1.8 (I mean the column whose **index** is 3, the last column).\n",
        "The cell is not empty because you have been provided with the code which loads the data.\n",
        "So you should keep that code and **add to it**."
      ]
    },
    {
      "cell_type": "code",
      "execution_count": 21,
      "metadata": {
        "id": "RWsm4jcbJSVy"
      },
      "outputs": [],
      "source": [
        "from sklearn.datasets import load_iris\n",
        "data = load_iris()\n",
        "features = data['data']\n",
        "target = data['target']"
      ]
    },
    {
      "cell_type": "markdown",
      "metadata": {
        "id": "30mkWyeOJSV0"
      },
      "source": [
        "In the next cell, use a Boolean array to return all the rows representing members of class 2 in the iris data set (the Boolean array is not the answer; it is used in retrieving the answer)."
      ]
    },
    {
      "cell_type": "code",
      "source": [
        "type(data)"
      ],
      "metadata": {
        "id": "BdwAOCtoCiYu",
        "outputId": "fb58ee34-9ef8-4f68-81ab-b59e3af149df",
        "colab": {
          "base_uri": "https://localhost:8080/"
        }
      },
      "execution_count": 24,
      "outputs": [
        {
          "output_type": "execute_result",
          "data": {
            "text/plain": [
              "sklearn.utils.Bunch"
            ]
          },
          "metadata": {},
          "execution_count": 24
        }
      ]
    },
    {
      "cell_type": "code",
      "execution_count": 25,
      "metadata": {
        "id": "b9epMASDJSV0",
        "outputId": "bf5482c8-946a-455e-c168-f5cf4a854919",
        "colab": {
          "base_uri": "https://localhost:8080/"
        }
      },
      "outputs": [
        {
          "output_type": "execute_result",
          "data": {
            "text/plain": [
              "array([[6.3, 3.3, 6. , 2.5],\n",
              "       [5.8, 2.7, 5.1, 1.9],\n",
              "       [7.1, 3. , 5.9, 2.1],\n",
              "       [6.3, 2.9, 5.6, 1.8],\n",
              "       [6.5, 3. , 5.8, 2.2],\n",
              "       [7.6, 3. , 6.6, 2.1],\n",
              "       [4.9, 2.5, 4.5, 1.7],\n",
              "       [7.3, 2.9, 6.3, 1.8],\n",
              "       [6.7, 2.5, 5.8, 1.8],\n",
              "       [7.2, 3.6, 6.1, 2.5],\n",
              "       [6.5, 3.2, 5.1, 2. ],\n",
              "       [6.4, 2.7, 5.3, 1.9],\n",
              "       [6.8, 3. , 5.5, 2.1],\n",
              "       [5.7, 2.5, 5. , 2. ],\n",
              "       [5.8, 2.8, 5.1, 2.4],\n",
              "       [6.4, 3.2, 5.3, 2.3],\n",
              "       [6.5, 3. , 5.5, 1.8],\n",
              "       [7.7, 3.8, 6.7, 2.2],\n",
              "       [7.7, 2.6, 6.9, 2.3],\n",
              "       [6. , 2.2, 5. , 1.5],\n",
              "       [6.9, 3.2, 5.7, 2.3],\n",
              "       [5.6, 2.8, 4.9, 2. ],\n",
              "       [7.7, 2.8, 6.7, 2. ],\n",
              "       [6.3, 2.7, 4.9, 1.8],\n",
              "       [6.7, 3.3, 5.7, 2.1],\n",
              "       [7.2, 3.2, 6. , 1.8],\n",
              "       [6.2, 2.8, 4.8, 1.8],\n",
              "       [6.1, 3. , 4.9, 1.8],\n",
              "       [6.4, 2.8, 5.6, 2.1],\n",
              "       [7.2, 3. , 5.8, 1.6],\n",
              "       [7.4, 2.8, 6.1, 1.9],\n",
              "       [7.9, 3.8, 6.4, 2. ],\n",
              "       [6.4, 2.8, 5.6, 2.2],\n",
              "       [6.3, 2.8, 5.1, 1.5],\n",
              "       [6.1, 2.6, 5.6, 1.4],\n",
              "       [7.7, 3. , 6.1, 2.3],\n",
              "       [6.3, 3.4, 5.6, 2.4],\n",
              "       [6.4, 3.1, 5.5, 1.8],\n",
              "       [6. , 3. , 4.8, 1.8],\n",
              "       [6.9, 3.1, 5.4, 2.1],\n",
              "       [6.7, 3.1, 5.6, 2.4],\n",
              "       [6.9, 3.1, 5.1, 2.3],\n",
              "       [5.8, 2.7, 5.1, 1.9],\n",
              "       [6.8, 3.2, 5.9, 2.3],\n",
              "       [6.7, 3.3, 5.7, 2.5],\n",
              "       [6.7, 3. , 5.2, 2.3],\n",
              "       [6.3, 2.5, 5. , 1.9],\n",
              "       [6.5, 3. , 5.2, 2. ],\n",
              "       [6.2, 3.4, 5.4, 2.3],\n",
              "       [5.9, 3. , 5.1, 1.8]])"
            ]
          },
          "metadata": {},
          "execution_count": 25
        }
      ],
      "source": [
        "\n",
        "data.data[data.target == 2]"
      ]
    },
    {
      "cell_type": "markdown",
      "metadata": {
        "id": "LD7NX3Y2JSV2"
      },
      "source": [
        "Extra credit:  In the next cell write an expression -- or expressions -- which returns\n",
        "all the members of class 2 in the data whose column 3 value is greater than 1.8.\n",
        "\n",
        "Hint: Set a variable to the result of one of your answers to the last two questions.\n",
        "That result is an array, and you can do more indexing on it."
      ]
    },
    {
      "cell_type": "code",
      "source": [
        "Class_2 = data.data[data.target == 2]\n",
        "Class_2[Class_2[:,2] > 1.18]"
      ],
      "metadata": {
        "id": "SQ0olJ-OCuBD",
        "outputId": "e1aaa08d-0fa1-4528-a9d9-823617f7d206",
        "colab": {
          "base_uri": "https://localhost:8080/"
        }
      },
      "execution_count": 27,
      "outputs": [
        {
          "output_type": "execute_result",
          "data": {
            "text/plain": [
              "array([[6.3, 3.3, 6. , 2.5],\n",
              "       [5.8, 2.7, 5.1, 1.9],\n",
              "       [7.1, 3. , 5.9, 2.1],\n",
              "       [6.3, 2.9, 5.6, 1.8],\n",
              "       [6.5, 3. , 5.8, 2.2],\n",
              "       [7.6, 3. , 6.6, 2.1],\n",
              "       [4.9, 2.5, 4.5, 1.7],\n",
              "       [7.3, 2.9, 6.3, 1.8],\n",
              "       [6.7, 2.5, 5.8, 1.8],\n",
              "       [7.2, 3.6, 6.1, 2.5],\n",
              "       [6.5, 3.2, 5.1, 2. ],\n",
              "       [6.4, 2.7, 5.3, 1.9],\n",
              "       [6.8, 3. , 5.5, 2.1],\n",
              "       [5.7, 2.5, 5. , 2. ],\n",
              "       [5.8, 2.8, 5.1, 2.4],\n",
              "       [6.4, 3.2, 5.3, 2.3],\n",
              "       [6.5, 3. , 5.5, 1.8],\n",
              "       [7.7, 3.8, 6.7, 2.2],\n",
              "       [7.7, 2.6, 6.9, 2.3],\n",
              "       [6. , 2.2, 5. , 1.5],\n",
              "       [6.9, 3.2, 5.7, 2.3],\n",
              "       [5.6, 2.8, 4.9, 2. ],\n",
              "       [7.7, 2.8, 6.7, 2. ],\n",
              "       [6.3, 2.7, 4.9, 1.8],\n",
              "       [6.7, 3.3, 5.7, 2.1],\n",
              "       [7.2, 3.2, 6. , 1.8],\n",
              "       [6.2, 2.8, 4.8, 1.8],\n",
              "       [6.1, 3. , 4.9, 1.8],\n",
              "       [6.4, 2.8, 5.6, 2.1],\n",
              "       [7.2, 3. , 5.8, 1.6],\n",
              "       [7.4, 2.8, 6.1, 1.9],\n",
              "       [7.9, 3.8, 6.4, 2. ],\n",
              "       [6.4, 2.8, 5.6, 2.2],\n",
              "       [6.3, 2.8, 5.1, 1.5],\n",
              "       [6.1, 2.6, 5.6, 1.4],\n",
              "       [7.7, 3. , 6.1, 2.3],\n",
              "       [6.3, 3.4, 5.6, 2.4],\n",
              "       [6.4, 3.1, 5.5, 1.8],\n",
              "       [6. , 3. , 4.8, 1.8],\n",
              "       [6.9, 3.1, 5.4, 2.1],\n",
              "       [6.7, 3.1, 5.6, 2.4],\n",
              "       [6.9, 3.1, 5.1, 2.3],\n",
              "       [5.8, 2.7, 5.1, 1.9],\n",
              "       [6.8, 3.2, 5.9, 2.3],\n",
              "       [6.7, 3.3, 5.7, 2.5],\n",
              "       [6.7, 3. , 5.2, 2.3],\n",
              "       [6.3, 2.5, 5. , 1.9],\n",
              "       [6.5, 3. , 5.2, 2. ],\n",
              "       [6.2, 3.4, 5.4, 2.3],\n",
              "       [5.9, 3. , 5.1, 1.8]])"
            ]
          },
          "metadata": {},
          "execution_count": 27
        }
      ]
    },
    {
      "cell_type": "markdown",
      "metadata": {
        "id": "gZyShGsx6SZe"
      },
      "source": [
        "Two Solutions.  The one not hinted at uses Boolean array conjunction."
      ]
    },
    {
      "cell_type": "markdown",
      "metadata": {
        "id": "YwZKMYrn6SZe"
      },
      "source": [
        "Solution 2.  This one uses `&`.  Say you have X an array of numbers and you want a Boolean array\n",
        "that tells you exactly which numbers are even (`X%2 == 0`) and greater than 4 (`X > 4`).  You can\n",
        "combine these two conditions using `7`:"
      ]
    },
    {
      "cell_type": "code",
      "execution_count": 28,
      "metadata": {
        "id": "Hake5bryJSV2",
        "outputId": "b9c97193-5c66-4485-b51a-24190471ce9d",
        "colab": {
          "base_uri": "https://localhost:8080/"
        }
      },
      "outputs": [
        {
          "output_type": "stream",
          "name": "stdout",
          "text": [
            "[[ 0  1  2  3  4]\n",
            " [ 5  6  7  8  9]\n",
            " [10 11 12 13 14]]\n"
          ]
        },
        {
          "output_type": "execute_result",
          "data": {
            "text/plain": [
              "array([[False, False, False, False, False],\n",
              "       [False,  True, False,  True, False],\n",
              "       [ True, False,  True, False,  True]])"
            ]
          },
          "metadata": {},
          "execution_count": 28
        }
      ],
      "source": [
        "X = np.arange(15).reshape((3,5))\n",
        "print(X)\n",
        "(X%2 == 0) & (X > 4)"
      ]
    },
    {
      "cell_type": "markdown",
      "metadata": {
        "id": "vIOJpQzg6SZe"
      },
      "source": [
        "To find solution 2, write a single expression that uses `&` which returns\n",
        "all the rows of the Iris data class 2 in the data whose column 3 value is greater than 1.8.\n",
        "\n",
        "This should produce a 2D array with 4 columns and 34 rows."
      ]
    },
    {
      "cell_type": "code",
      "execution_count": 30,
      "metadata": {
        "id": "LbIkKwTj6SZe",
        "outputId": "a94383c6-00ec-4b9c-ecb4-9e4786936187",
        "colab": {
          "base_uri": "https://localhost:8080/"
        }
      },
      "outputs": [
        {
          "output_type": "execute_result",
          "data": {
            "text/plain": [
              "array([[6.3, 3.3, 6. , 2.5],\n",
              "       [5.8, 2.7, 5.1, 1.9],\n",
              "       [7.1, 3. , 5.9, 2.1],\n",
              "       [6.5, 3. , 5.8, 2.2],\n",
              "       [7.6, 3. , 6.6, 2.1],\n",
              "       [7.2, 3.6, 6.1, 2.5],\n",
              "       [6.5, 3.2, 5.1, 2. ],\n",
              "       [6.4, 2.7, 5.3, 1.9],\n",
              "       [6.8, 3. , 5.5, 2.1],\n",
              "       [5.7, 2.5, 5. , 2. ],\n",
              "       [5.8, 2.8, 5.1, 2.4],\n",
              "       [6.4, 3.2, 5.3, 2.3],\n",
              "       [7.7, 3.8, 6.7, 2.2],\n",
              "       [7.7, 2.6, 6.9, 2.3],\n",
              "       [6.9, 3.2, 5.7, 2.3],\n",
              "       [5.6, 2.8, 4.9, 2. ],\n",
              "       [7.7, 2.8, 6.7, 2. ],\n",
              "       [6.7, 3.3, 5.7, 2.1],\n",
              "       [6.4, 2.8, 5.6, 2.1],\n",
              "       [7.4, 2.8, 6.1, 1.9],\n",
              "       [7.9, 3.8, 6.4, 2. ],\n",
              "       [6.4, 2.8, 5.6, 2.2],\n",
              "       [7.7, 3. , 6.1, 2.3],\n",
              "       [6.3, 3.4, 5.6, 2.4],\n",
              "       [6.9, 3.1, 5.4, 2.1],\n",
              "       [6.7, 3.1, 5.6, 2.4],\n",
              "       [6.9, 3.1, 5.1, 2.3],\n",
              "       [5.8, 2.7, 5.1, 1.9],\n",
              "       [6.8, 3.2, 5.9, 2.3],\n",
              "       [6.7, 3.3, 5.7, 2.5],\n",
              "       [6.7, 3. , 5.2, 2.3],\n",
              "       [6.3, 2.5, 5. , 1.9],\n",
              "       [6.5, 3. , 5.2, 2. ],\n",
              "       [6.2, 3.4, 5.4, 2.3]])"
            ]
          },
          "metadata": {},
          "execution_count": 30
        }
      ],
      "source": [
        "data.data[(data['target'] == 2) & (data.data[:,3] > 1.8)]"
      ]
    },
    {
      "cell_type": "markdown",
      "metadata": {
        "id": "yX3ltxTdJSV4"
      },
      "source": [
        "## Boston Housing data exercise (UCI ML housing dataset)"
      ]
    },
    {
      "cell_type": "code",
      "execution_count": 31,
      "metadata": {
        "colab": {
          "base_uri": "https://localhost:8080/"
        },
        "id": "gsSH2VhnJSV5",
        "outputId": "461c34b9-3d41-40e0-9d7f-3601b7d12cac"
      },
      "outputs": [
        {
          "output_type": "stream",
          "name": "stdout",
          "text": [
            "(506, 13) (506,)\n"
          ]
        },
        {
          "output_type": "stream",
          "name": "stderr",
          "text": [
            "/usr/local/lib/python3.7/dist-packages/sklearn/utils/deprecation.py:87: FutureWarning: Function load_boston is deprecated; `load_boston` is deprecated in 1.0 and will be removed in 1.2.\n",
            "\n",
            "    The Boston housing prices dataset has an ethical problem. You can refer to\n",
            "    the documentation of this function for further details.\n",
            "\n",
            "    The scikit-learn maintainers therefore strongly discourage the use of this\n",
            "    dataset unless the purpose of the code is to study and educate about\n",
            "    ethical issues in data science and machine learning.\n",
            "\n",
            "    In this special case, you can fetch the dataset from the original\n",
            "    source::\n",
            "\n",
            "        import pandas as pd\n",
            "        import numpy as np\n",
            "\n",
            "\n",
            "        data_url = \"http://lib.stat.cmu.edu/datasets/boston\"\n",
            "        raw_df = pd.read_csv(data_url, sep=\"\\s+\", skiprows=22, header=None)\n",
            "        data = np.hstack([raw_df.values[::2, :], raw_df.values[1::2, :2]])\n",
            "        target = raw_df.values[1::2, 2]\n",
            "\n",
            "    Alternative datasets include the California housing dataset (i.e.\n",
            "    :func:`~sklearn.datasets.fetch_california_housing`) and the Ames housing\n",
            "    dataset. You can load the datasets as follows::\n",
            "\n",
            "        from sklearn.datasets import fetch_california_housing\n",
            "        housing = fetch_california_housing()\n",
            "\n",
            "    for the California housing dataset and::\n",
            "\n",
            "        from sklearn.datasets import fetch_openml\n",
            "        housing = fetch_openml(name=\"house_prices\", as_frame=True)\n",
            "\n",
            "    for the Ames housing dataset.\n",
            "    \n",
            "  warnings.warn(msg, category=FutureWarning)\n"
          ]
        }
      ],
      "source": [
        "from sklearn import datasets\n",
        "boston = datasets.load_boston()\n",
        "X,Y = boston.data,boston.target\n",
        "print(X.shape, Y.shape)"
      ]
    },
    {
      "cell_type": "markdown",
      "metadata": {
        "id": "CEJyjWa0JSV7"
      },
      "source": [
        "The cell above loads the `sklearn` Boston housing data, which contains information about housing prices\n",
        "for 501 houses sold in Boston, and the values of various attributes which have been found to be useful\n",
        "in predicting home prices:\n",
        "\n",
        "```\n",
        "Index\n",
        "0         - CRIM     per capita crime rate by town\n",
        "1         - ZN       proportion of residential land zoned for lots over 25,000 sq.ft.\n",
        "2         - INDUS    proportion of non-retail business acres per town\n",
        "3         - CHAS     Charles River dummy variable (= 1 if tract bounds river; 0 otherwise)\n",
        "4         - NOX      nitric oxides concentration (parts per 10 million)\n",
        "5         - RM       average number of rooms per dwelling\n",
        "6         - AGE      proportion of owner-occupied units built prior to 1940\n",
        "7         - DIS      weighted distances to five Boston employment centres\n",
        "8         - RAD      index of accessibility to radial highways\n",
        "9         - TAX      full-value property-tax rate per $10,000\n",
        "10        - PTRATIO  pupil-teacher ratio by town\n",
        "11        - B        1000(Bk - 0.63)^2 where Bk is the proportion of blacks by town\n",
        "12        - LSTAT    % lower status of the population\n",
        "```\n",
        "\n",
        "The array `X`, defined in the cell above, is a 501x13 array containing the values of all\n",
        "these variables for 501 Boston houses.  \n",
        "\n",
        "The information stored in Y, the value to be predicted is\n",
        "\n",
        "```\n",
        "       - MEDV     Median value of owner-occupied homes in $1000's\n",
        " \n",
        "```\n",
        "\n",
        "1.  Construct an expression or expressions that creates a new table that omits all houses whose tracts\n",
        "    bound the Charles River.\n",
        "2.  Construct an expression or expressions that creates a new table containing only the CRIM column and\n",
        "    the ZN column.  This is  our new X.  Also create a new Y containing the pupil-teach ratio.\n",
        "    This is to help someone research how to predict poor education conditions.  The shape of the new X should\n",
        "    (506,2) and the shape of the new Y should be (506,).  Show that you checked this in your answer."
      ]
    },
    {
      "cell_type": "code",
      "execution_count": 32,
      "metadata": {
        "id": "L4kaM8xuJSV8",
        "outputId": "bd60df61-b2f5-441c-c146-9dea757d226a",
        "colab": {
          "base_uri": "https://localhost:8080/"
        }
      },
      "outputs": [
        {
          "output_type": "execute_result",
          "data": {
            "text/plain": [
              "array([[6.3200e-03, 1.8000e+01, 2.3100e+00, ..., 1.5300e+01, 3.9690e+02,\n",
              "        4.9800e+00],\n",
              "       [2.7310e-02, 0.0000e+00, 7.0700e+00, ..., 1.7800e+01, 3.9690e+02,\n",
              "        9.1400e+00],\n",
              "       [2.7290e-02, 0.0000e+00, 7.0700e+00, ..., 1.7800e+01, 3.9283e+02,\n",
              "        4.0300e+00],\n",
              "       ...,\n",
              "       [6.0760e-02, 0.0000e+00, 1.1930e+01, ..., 2.1000e+01, 3.9690e+02,\n",
              "        5.6400e+00],\n",
              "       [1.0959e-01, 0.0000e+00, 1.1930e+01, ..., 2.1000e+01, 3.9345e+02,\n",
              "        6.4800e+00],\n",
              "       [4.7410e-02, 0.0000e+00, 1.1930e+01, ..., 2.1000e+01, 3.9690e+02,\n",
              "        7.8800e+00]])"
            ]
          },
          "metadata": {},
          "execution_count": 32
        }
      ],
      "source": [
        "Bound_Data = boston.data[boston.data[:,3] !=1]\n",
        "Bound_Data"
      ]
    },
    {
      "cell_type": "code",
      "execution_count": 34,
      "metadata": {
        "id": "orvfREc-6SZf",
        "outputId": "c88447b2-c6ca-442e-f106-43bd06f08dfc",
        "colab": {
          "base_uri": "https://localhost:8080/"
        }
      },
      "outputs": [
        {
          "output_type": "stream",
          "name": "stdout",
          "text": [
            "(506, 2)\n",
            "(506,)\n"
          ]
        }
      ],
      "source": [
        "X = boston.data[:,0:2]\n",
        "Y = boston.data[:,10]\n",
        "print(X.shape)\n",
        "print(Y.shape)"
      ]
    },
    {
      "cell_type": "markdown",
      "metadata": {
        "id": "kwn3yLeC6SZf"
      },
      "source": [
        "Write an exporession that computes how many housing tracts in the data set bound\n",
        "the Charles River."
      ]
    },
    {
      "cell_type": "code",
      "execution_count": 35,
      "metadata": {
        "id": "ycAVSFh16SZg",
        "outputId": "50435c70-b8ad-465e-da1f-beeaabf450a4",
        "colab": {
          "base_uri": "https://localhost:8080/"
        }
      },
      "outputs": [
        {
          "output_type": "execute_result",
          "data": {
            "text/plain": [
              "(35, 13)"
            ]
          },
          "metadata": {},
          "execution_count": 35
        }
      ],
      "source": [
        "boston.data[boston.data[:,3] == 1].shape"
      ]
    },
    {
      "cell_type": "markdown",
      "metadata": {
        "id": "-Y4B8Y7q6SZg"
      },
      "source": [
        "Checks!"
      ]
    },
    {
      "cell_type": "markdown",
      "metadata": {
        "id": "xrbBE5xa6SZg"
      },
      "source": [
        "## Part two"
      ]
    },
    {
      "cell_type": "code",
      "execution_count": null,
      "metadata": {
        "id": "UZyEi4Qb6SZg"
      },
      "outputs": [],
      "source": [
        ""
      ]
    },
    {
      "cell_type": "markdown",
      "metadata": {
        "id": "6ST54UAl6SZg"
      },
      "source": [
        "The answers for the following section are available on the inclass Boolean exercies solution notebook."
      ]
    },
    {
      "cell_type": "markdown",
      "metadata": {
        "id": "F2-lS9n39ZOY"
      },
      "source": [
        "# Boolean combinations\n",
        "\n",
        "In this section we load forest covertype data.  This is a multi class dataset that has data for 7 different forest covertypes (stored in the `target` attribute).  There are 581,012 forest plots with 54 attributes each (stored ina 581012x54 array) The first ten attributes are numerical, the last 44 are Boolean (true/false) attributes. Each of the Boolean attributes represents a qualitative soil type attribute which is either present or absent.  We will refer to all the attributes by their column index.  Thus the first attribute is attribute 0 and the last (a Boolean attribute) is attribute 53."
      ]
    },
    {
      "cell_type": "code",
      "execution_count": 36,
      "metadata": {
        "id": "t0a3FWEa49nE",
        "outputId": "2121107d-d33a-4b4e-f4c6-be5d81095561",
        "colab": {
          "base_uri": "https://localhost:8080/"
        }
      },
      "outputs": [
        {
          "output_type": "stream",
          "name": "stdout",
          "text": [
            "(581012, 54)\n",
            "(581012,)\n"
          ]
        }
      ],
      "source": [
        "#from sklearn.datasets import load_wine\n",
        "#wdata = load_wine()\n",
        "from sklearn.datasets import fetch_covtype\n",
        "data = fetch_covtype()\n",
        "print(data.data.shape)  # data.data is the 581012 x 54 array\n",
        "print(data.target.shape)     # data.target contains the class for each instance"
      ]
    },
    {
      "cell_type": "markdown",
      "metadata": {
        "id": "oWBPtw2Q6SZg"
      },
      "source": [
        "Th first 26 columns of the plot index 50_210:"
      ]
    },
    {
      "cell_type": "code",
      "execution_count": 37,
      "metadata": {
        "id": "zgrzP8pa6SZh",
        "outputId": "f570db95-71fd-41d5-edeb-d4a906548f3f",
        "colab": {
          "base_uri": "https://localhost:8080/"
        }
      },
      "outputs": [
        {
          "output_type": "execute_result",
          "data": {
            "text/plain": [
              "array([2.988e+03, 2.250e+02, 2.000e+00, 5.520e+02, 9.200e+01, 5.492e+03,\n",
              "       2.160e+02, 2.410e+02, 1.620e+02, 4.290e+03, 1.000e+00, 0.000e+00,\n",
              "       0.000e+00, 0.000e+00, 0.000e+00, 0.000e+00, 0.000e+00, 0.000e+00,\n",
              "       0.000e+00, 0.000e+00, 0.000e+00, 0.000e+00, 0.000e+00, 0.000e+00,\n",
              "       0.000e+00, 0.000e+00])"
            ]
          },
          "metadata": {},
          "execution_count": 37
        }
      ],
      "source": [
        "data.data[50_210,:26]"
      ]
    },
    {
      "cell_type": "markdown",
      "metadata": {
        "id": "HNHmRFMT6SZh"
      },
      "source": [
        "The last 28 column of the plot index 50_210:"
      ]
    },
    {
      "cell_type": "code",
      "execution_count": 38,
      "metadata": {
        "id": "KHeGEP1D6SZh",
        "outputId": "dce5453b-b9e9-48f1-bcc7-aa4a08aab832",
        "colab": {
          "base_uri": "https://localhost:8080/"
        }
      },
      "outputs": [
        {
          "output_type": "execute_result",
          "data": {
            "text/plain": [
              "array([0., 0., 0., 0., 0., 0., 0., 0., 0., 0., 0., 0., 0., 0., 0., 0., 1.,\n",
              "       0., 0., 0., 0., 0., 0., 0., 0., 0., 0., 0.])"
            ]
          },
          "metadata": {},
          "execution_count": 38
        }
      ],
      "source": [
        "data.data[50_210,26:]"
      ]
    },
    {
      "cell_type": "markdown",
      "metadata": {
        "id": "nlOSWhkBMKAK"
      },
      "source": [
        "[The Boolean arrays and masks notebook](https://github.com/gawron/python-for-social-science/blob/master/numpy/02_06_Boolean_Arrays_and_Masks.ipynb) discusses combining Boolean arrays with Boolean operators `&` (conceptually 'and') and `|` (conceptually 'or').   We can add to that `~` (conceptually 'not') to complete the list.  Look at the examples there.\n",
        "\n",
        " \n",
        "The `sklearn` description of the covertype dataset is printed in the cell below. For a fuller understanding of the attributes in the dataset you might want to look at [the original UCI data set description.](https://archive.ics.uci.edu/ml/datasets/Covertype)"
      ]
    },
    {
      "cell_type": "markdown",
      "metadata": {
        "id": "Kj5FH9sU6SZh"
      },
      "source": [
        "Forest covertypes\n",
        "---------------------\n",
        "\n",
        "The samples in this dataset correspond to 30×30m patches of forest in the US,\n",
        "collected for the task of predicting each patch's cover type,\n",
        "i.e. the dominant species of tree.\n",
        "There are seven covertypes, making this a multiclass classification problem.\n",
        "Each sample has 54 features, described on the\n",
        "[dataset's homepage](https://archive.ics.uci.edu/ml/datasets/Covertype>).\n",
        "Some of the features are boolean indicators\n",
        "while others are discrete or continuous measurements.\n",
        "\n",
        "**Data Set Characteristics:**\n",
        "\n",
        "    =================   ============\n",
        "    Classes                        7\n",
        "    Samples total             581012\n",
        "    Dimensionality                54\n",
        "    Features                     int\n",
        "    =================   ============\n",
        "\n",
        "The function `sklearn.datasets.fetch_covtype` will load the covertype dataset;\n",
        "it returns a dictionary-like object\n",
        "with the feature matrix in the ``data`` member\n",
        "and the target values in ``target``.\n",
        "The dataset will be downloaded from the web if necessary."
      ]
    },
    {
      "cell_type": "markdown",
      "metadata": {
        "id": "bXZsBxT6Br8C"
      },
      "source": [
        "`data.data` attribute is a `numpy` array containing the array.  As an example to help with this problem.  To compute an an array containing just the rows in which attribute 0 is greater than 50 you do. "
      ]
    },
    {
      "cell_type": "code",
      "execution_count": 39,
      "metadata": {
        "colab": {
          "base_uri": "https://localhost:8080/"
        },
        "id": "dVZgDsBLLtxN",
        "outputId": "0d27c832-b067-4ed8-edc1-8aa318abd37d"
      },
      "outputs": [
        {
          "output_type": "stream",
          "name": "stdout",
          "text": [
            "(581012, 54)\n"
          ]
        }
      ],
      "source": [
        "WW = data.data > 50\n",
        "print(WW.shape)"
      ]
    },
    {
      "cell_type": "markdown",
      "metadata": {
        "id": "xgTX9Qm1A-va"
      },
      "source": [
        "The covertypes (or dominant tree) for each forest plot are in `data.target`, which is often the attribute used to store the classes in an `sklearn` clasification dataset.  There is data for 581,012 plots\n",
        "so this is a 1D array of length 581,012.  \n",
        "\n",
        "There are 7 distinct fiorest tyoes that a plot can have."
      ]
    },
    {
      "cell_type": "code",
      "execution_count": 40,
      "metadata": {
        "colab": {
          "base_uri": "https://localhost:8080/"
        },
        "id": "uVjutdGL7KPL",
        "outputId": "6de94978-7062-4f58-a1f6-0f2f296fd39c"
      },
      "outputs": [
        {
          "output_type": "stream",
          "name": "stdout",
          "text": [
            "581012\n",
            "{1, 2, 3, 4, 5, 6, 7}\n"
          ]
        }
      ],
      "source": [
        "print(len(data.target))\n",
        "print(set(data.target))"
      ]
    },
    {
      "cell_type": "markdown",
      "metadata": {
        "id": "db7CleYQ6SZj"
      },
      "source": [
        "### The problem"
      ]
    },
    {
      "cell_type": "markdown",
      "metadata": {
        "id": "L-fcMVr_Ls7q"
      },
      "source": [
        "1. Write an expression that retrieves all rows that a value greater than 300 in the column indexed 1 (second column) and a value equal to 1 for the column indexed 12. \n",
        "\n",
        "2. Write an expression that retrieves the rows from either class 3 or class 5  that have a value greater than 300 in the column indexed 1 (second column) and a value equal to 1 for the column indexed 12. \n",
        "\n",
        "3. Write an expression that counts the rows from either class 3 or class 5  that have a value greater than 300 in the column indexed 1 (second column) and a value equal to 1 for the column indexed 12. "
      ]
    },
    {
      "cell_type": "code",
      "execution_count": 41,
      "metadata": {
        "id": "EJv47DIL6SZj",
        "outputId": "e7ece69d-91db-4366-b1f6-763a70ac7040",
        "colab": {
          "base_uri": "https://localhost:8080/",
          "height": 204
        }
      },
      "outputs": [
        {
          "output_type": "error",
          "ename": "NameError",
          "evalue": "ignored",
          "traceback": [
            "\u001b[0;31m---------------------------------------------------------------------------\u001b[0m",
            "\u001b[0;31mNameError\u001b[0m                                 Traceback (most recent call last)",
            "\u001b[0;32m<ipython-input-41-bb848e757537>\u001b[0m in \u001b[0;36m<module>\u001b[0;34m()\u001b[0m\n\u001b[0;32m----> 1\u001b[0;31m \u001b[0mpd\u001b[0m\u001b[0;34m.\u001b[0m\u001b[0mDataFrame\u001b[0m\u001b[0;34m(\u001b[0m\u001b[0mdata\u001b[0m\u001b[0;34m.\u001b[0m\u001b[0mdata\u001b[0m\u001b[0;34m)\u001b[0m\u001b[0;34m\u001b[0m\u001b[0;34m\u001b[0m\u001b[0m\n\u001b[0m",
            "\u001b[0;31mNameError\u001b[0m: name 'pd' is not defined"
          ]
        }
      ],
      "source": [
        ""
      ]
    },
    {
      "cell_type": "markdown",
      "metadata": {
        "id": "MdNH13MJ1wu_"
      },
      "source": [
        ""
      ]
    },
    {
      "cell_type": "code",
      "source": [
        "#1\n",
        "data.data[(data.data[:,1] > 300) & (data.data[:,12] ==1)]"
      ],
      "metadata": {
        "id": "ip0UOewHG10C",
        "outputId": "44a09442-7268-4d8c-f71d-78a01e9b766e",
        "colab": {
          "base_uri": "https://localhost:8080/"
        }
      },
      "execution_count": 44,
      "outputs": [
        {
          "output_type": "execute_result",
          "data": {
            "text/plain": [
              "array([[2780.,  346.,   13., ...,    0.,    0.,    0.],\n",
              "       [2725.,  353.,   19., ...,    0.,    0.,    0.],\n",
              "       [2747.,  329.,   19., ...,    0.,    0.,    0.],\n",
              "       ...,\n",
              "       [2619.,  336.,   13., ...,    0.,    0.,    0.],\n",
              "       [2630.,  317.,   12., ...,    0.,    0.,    0.],\n",
              "       [2633.,  309.,    9., ...,    0.,    0.,    0.]])"
            ]
          },
          "metadata": {},
          "execution_count": 44
        }
      ]
    },
    {
      "cell_type": "code",
      "source": [
        "#2\n",
        "data.data[(data.target ==3|5) & (data.data[:,1] > 300) & (data.data[:,12] == 1)]"
      ],
      "metadata": {
        "id": "ovqUK4wIHICU",
        "outputId": "67602ae7-ba65-4190-cd3c-2bdb4dca3b68",
        "colab": {
          "base_uri": "https://localhost:8080/"
        }
      },
      "execution_count": 45,
      "outputs": [
        {
          "output_type": "execute_result",
          "data": {
            "text/plain": [
              "array([[3.399e+03, 3.030e+02, 5.000e+00, ..., 1.000e+00, 0.000e+00,\n",
              "        0.000e+00],\n",
              "       [3.410e+03, 3.100e+02, 7.000e+00, ..., 1.000e+00, 0.000e+00,\n",
              "        0.000e+00],\n",
              "       [3.413e+03, 3.030e+02, 8.000e+00, ..., 1.000e+00, 0.000e+00,\n",
              "        0.000e+00],\n",
              "       ...,\n",
              "       [3.305e+03, 3.510e+02, 1.400e+01, ..., 0.000e+00, 0.000e+00,\n",
              "        0.000e+00],\n",
              "       [3.308e+03, 3.010e+02, 1.000e+01, ..., 0.000e+00, 0.000e+00,\n",
              "        0.000e+00],\n",
              "       [3.313e+03, 3.310e+02, 6.000e+00, ..., 0.000e+00, 0.000e+00,\n",
              "        0.000e+00]])"
            ]
          },
          "metadata": {},
          "execution_count": 45
        }
      ]
    },
    {
      "cell_type": "code",
      "source": [
        "#3\n",
        "#Column and Row count\n",
        "data.data[(data.target == 3|5) & (data.data[:,1] > 300) & (data.data[:,12] ==1)].shape"
      ],
      "metadata": {
        "id": "xKmU8xEcHnMg",
        "outputId": "fc42e189-e9d3-4ad3-e41b-1cbd64a4453a",
        "colab": {
          "base_uri": "https://localhost:8080/"
        }
      },
      "execution_count": 46,
      "outputs": [
        {
          "output_type": "execute_result",
          "data": {
            "text/plain": [
              "(2774, 54)"
            ]
          },
          "metadata": {},
          "execution_count": 46
        }
      ]
    },
    {
      "cell_type": "code",
      "source": [
        "# just row count \n",
        "len(data.data[(data.target == 3|5) & (data.data[:,1] > 300) & (data.data[:,12] ==1)])"
      ],
      "metadata": {
        "id": "zsmeHtEHIxor",
        "outputId": "d4a28452-d6b1-406d-b980-e17052231a38",
        "colab": {
          "base_uri": "https://localhost:8080/"
        }
      },
      "execution_count": 47,
      "outputs": [
        {
          "output_type": "execute_result",
          "data": {
            "text/plain": [
              "2774"
            ]
          },
          "metadata": {},
          "execution_count": 47
        }
      ]
    }
  ],
  "metadata": {
    "colab": {
      "name": "full_numpy_assignment.ipynb",
      "provenance": []
    },
    "kernelspec": {
      "display_name": "Python 3",
      "language": "python",
      "name": "python3"
    },
    "language_info": {
      "codemirror_mode": {
        "name": "ipython",
        "version": 3
      },
      "file_extension": ".py",
      "mimetype": "text/x-python",
      "name": "python",
      "nbconvert_exporter": "python",
      "pygments_lexer": "ipython3",
      "version": "3.7.6"
    },
    "name": "_merged",
    "toc": {
      "base_numbering": 1,
      "nav_menu": {},
      "number_sections": true,
      "sideBar": true,
      "skip_h1_title": false,
      "title_cell": "Table of Contents",
      "title_sidebar": "Contents",
      "toc_cell": false,
      "toc_position": {},
      "toc_section_display": true,
      "toc_window_display": false
    }
  },
  "nbformat": 4,
  "nbformat_minor": 0
}